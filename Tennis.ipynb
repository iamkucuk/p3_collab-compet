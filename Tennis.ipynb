{
 "cells": [
  {
   "cell_type": "markdown",
   "metadata": {},
   "source": [
    "# Collaboration and Competition\n",
    "\n",
    "---\n",
    "\n",
    "In this notebook, you will learn how to use the Unity ML-Agents environment for the third project of the [Deep Reinforcement Learning Nanodegree](https://www.udacity.com/course/deep-reinforcement-learning-nanodegree--nd893) program.\n",
    "\n",
    "### 1. Start the Environment\n",
    "\n",
    "We begin by importing the necessary packages.  If the code cell below returns an error, please revisit the project instructions to double-check that you have installed [Unity ML-Agents](https://github.com/Unity-Technologies/ml-agents/blob/master/docs/Installation.md) and [NumPy](http://www.numpy.org/)."
   ]
  },
  {
   "cell_type": "code",
   "execution_count": 1,
   "metadata": {},
   "outputs": [],
   "source": [
    "from collections import deque\n",
    "\n",
    "from tqdm.auto import tqdm, trange\n",
    "from unityagents import UnityEnvironment\n",
    "import numpy as np\n",
    "import torch\n",
    "from agent import CompetetiveAgent"
   ]
  },
  {
   "cell_type": "markdown",
   "metadata": {},
   "source": [
    "Next, we will start the environment!  **_Before running the code cell below_**, change the `file_name` parameter to match the location of the Unity environment that you downloaded.\n",
    "\n",
    "- **Mac**: `\"path/to/Tennis.app\"`\n",
    "- **Windows** (x86): `\"path/to/Tennis_Windows_x86/Tennis.exe\"`\n",
    "- **Windows** (x86_64): `\"path/to/Tennis_Windows_x86_64/Tennis.exe\"`\n",
    "- **Linux** (x86): `\"path/to/Tennis_Linux/Tennis.x86\"`\n",
    "- **Linux** (x86_64): `\"path/to/Tennis_Linux/Tennis.x86_64\"`\n",
    "- **Linux** (x86, headless): `\"path/to/Tennis_Linux_NoVis/Tennis.x86\"`\n",
    "- **Linux** (x86_64, headless): `\"path/to/Tennis_Linux_NoVis/Tennis.x86_64\"`\n",
    "\n",
    "For instance, if you are using a Mac, then you downloaded `Tennis.app`.  If this file is in the same folder as the notebook, then the line below should appear as follows:\n",
    "```\n",
    "env = UnityEnvironment(file_name=\"Tennis.app\")\n",
    "```"
   ]
  },
  {
   "cell_type": "code",
   "execution_count": 2,
   "metadata": {},
   "outputs": [
    {
     "name": "stderr",
     "output_type": "stream",
     "text": [
      "INFO:unityagents:\n",
      "'Academy' started successfully!\n",
      "Unity Academy name: Academy\n",
      "        Number of Brains: 1\n",
      "        Number of External Brains : 1\n",
      "        Lesson number : 0\n",
      "        Reset Parameters :\n",
      "\t\t\n",
      "Unity brain name: TennisBrain\n",
      "        Number of Visual Observations (per agent): 0\n",
      "        Vector Observation space type: continuous\n",
      "        Vector Observation space size (per agent): 8\n",
      "        Number of stacked Vector Observation: 3\n",
      "        Vector Action space type: continuous\n",
      "        Vector Action space size (per agent): 2\n",
      "        Vector Action descriptions: , \n"
     ]
    }
   ],
   "source": [
    "env = UnityEnvironment(file_name=\"Tennis_Linux_NoVis/Tennis.x86_64\")"
   ]
  },
  {
   "cell_type": "markdown",
   "metadata": {},
   "source": [
    "Environments contain **_brains_** which are responsible for deciding the actions of their associated agents. Here we check for the first brain available, and set it as the default brain we will be controlling from Python."
   ]
  },
  {
   "cell_type": "code",
   "execution_count": 3,
   "metadata": {},
   "outputs": [],
   "source": [
    "# get the default brain\n",
    "brain_name = env.brain_names[0]\n",
    "brain = env.brains[brain_name]"
   ]
  },
  {
   "cell_type": "markdown",
   "metadata": {},
   "source": [
    "### 2. Examine the State and Action Spaces\n",
    "\n",
    "In this environment, two agents control rackets to bounce a ball over a net. If an agent hits the ball over the net, it receives a reward of +0.1.  If an agent lets a ball hit the ground or hits the ball out of bounds, it receives a reward of -0.01.  Thus, the goal of each agent is to keep the ball in play.\n",
    "\n",
    "The observation space consists of 8 variables corresponding to the position and velocity of the ball and racket. Two continuous actions are available, corresponding to movement toward (or away from) the net, and jumping. \n",
    "\n",
    "Run the code cell below to print some information about the environment."
   ]
  },
  {
   "cell_type": "code",
   "execution_count": 4,
   "metadata": {},
   "outputs": [
    {
     "name": "stdout",
     "output_type": "stream",
     "text": [
      "Number of agents: 2\n",
      "Size of each action: 2\n",
      "There are 2 agents. Each observes a state with length: 24\n",
      "The state for the first agent looks like: [ 0.          0.          0.          0.          0.          0.\n",
      "  0.          0.          0.          0.          0.          0.\n",
      "  0.          0.          0.          0.         -6.65278625 -1.5\n",
      " -0.          0.          6.83172083  6.         -0.          0.        ]\n"
     ]
    }
   ],
   "source": [
    "# reset the environment\n",
    "env_info = env.reset(train_mode=True)[brain_name]\n",
    "\n",
    "# number of agents \n",
    "num_agents = len(env_info.agents)\n",
    "print('Number of agents:', num_agents)\n",
    "\n",
    "# size of each action\n",
    "action_size = brain.vector_action_space_size\n",
    "print('Size of each action:', action_size)\n",
    "\n",
    "# examine the state space \n",
    "states = env_info.vector_observations\n",
    "state_size = states.shape[1]\n",
    "print('There are {} agents. Each observes a state with length: {}'.format(states.shape[0], state_size))\n",
    "print('The state for the first agent looks like:', states[0])"
   ]
  },
  {
   "cell_type": "markdown",
   "metadata": {},
   "source": [
    "### 3. Solution for Tennis Environment with MADDPG type Reinforcement Learning\n",
    "\n",
    "The environment to solve in this project is a Tennis environment with 2 players, which are being controlled by nearly-identical agents. Selected algorithm for this project is MADDPG. The version of MADDPG employed in this project is simply introducing individual agents with identical specs for each player, and train them by self-playing according to DDPG algorithm.\n",
    "\n",
    "Hyper-parameters for the components of DDPG algorithm are defined below."
   ]
  },
  {
   "cell_type": "code",
   "execution_count": 5,
   "metadata": {},
   "outputs": [],
   "source": [
    "args = {\n",
    "    \"memory_size\": 1e6,\n",
    "    \"batch_size\": 512,\n",
    "    \"discount_factor\": .99,\n",
    "    \"tau\": .2,\n",
    "    \"lr_actor\": 1e-4,\n",
    "    \"lr_critic\": 5e-4,\n",
    "    \"weight_decay\": 0,\n",
    "}\n",
    "termination_threshold = .5\n",
    "max_episodes = 1e4\n",
    "max_t = 1e3\n",
    "device = torch.device('cuda:0' if torch.cuda.is_available() else 'cpu')"
   ]
  },
  {
   "cell_type": "markdown",
   "metadata": {
    "pycharm": {
     "name": "#%% md\n"
    }
   },
   "source": [
    "- Memory Size: Size of replay buffer\n",
    "- Batch Size: Number of samples per batch\n",
    "- Discount Factor (gamma):   Discount factor for feature q values\n",
    "- Tau: Coefficient for the merge process between local networks and target networks.\n",
    "- LR Actor: Learning rate for the local actor model\n",
    "- LR Critic: Learning rate for the local critic model\n",
    "- Weight Decay: Weight decay for critic network if it's necessary.\n",
    "- Termination threshold: Termination threshold for the scores of training procedure.\n",
    "\n",
    "The code below is a simple training loop that calls certain methods from the Competetive Agent class, which includes both players' agents and handles their interaction with the environment and their training procedure. One may simply think of it as a wrapper for a DDPG agent class to handle multiple agents according to MADDPG algorithm. "
   ]
  },
  {
   "cell_type": "code",
   "execution_count": 6,
   "metadata": {},
   "outputs": [
    {
     "data": {
      "application/vnd.jupyter.widget-view+json": {
       "model_id": "9c5613df25b7455a913eae6e54552cc7",
       "version_major": 2,
       "version_minor": 0
      },
      "text/plain": [
       "HBox(children=(FloatProgress(value=0.0, description='Episodes', max=9999.0, style=ProgressStyle(description_wi…"
      ]
     },
     "metadata": {},
     "output_type": "display_data"
    },
    {
     "data": {
      "application/vnd.jupyter.widget-view+json": {
       "model_id": "90aff12e0053413aa70393690478eb97",
       "version_major": 2,
       "version_minor": 0
      },
      "text/plain": [
       "HBox(children=(FloatProgress(value=0.0, max=1000.0), HTML(value='')))"
      ]
     },
     "metadata": {},
     "output_type": "display_data"
    },
    {
     "name": "stdout",
     "output_type": "stream",
     "text": [
      "\n",
      "Environment solved in 500 episodes!\tAverage Score: 0.80\n"
     ]
    }
   ],
   "source": [
    "agent = CompetetiveAgent(state_size, action_size, num_agents, args=args,\n",
    "                                 device=device)\n",
    "\n",
    "scores_deque = deque(maxlen=100)\n",
    "scores = []\n",
    "tqdm_bar = trange(1, int(max_episodes), desc=\"Episodes\")\n",
    "episode_bar = tqdm(total=max_t)\n",
    "train_mode = True\n",
    "add_noise = True\n",
    "for i in tqdm_bar:\n",
    "    agent.reset()\n",
    "    states = env.reset(train_mode=train_mode)[brain_name].vector_observations\n",
    "    episode_scores = np.zeros(num_agents)\n",
    "    loss = []\n",
    "    for t in range(int(max_t)):\n",
    "        actions = agent.act(states, add_noise=add_noise)\n",
    "        env_info = env.step(actions)[brain_name]\n",
    "        next_states, rewards, dones = env_info.vector_observations, env_info.rewards, env_info.local_done\n",
    "        curr_loss = agent.step(states, actions, rewards, next_states, dones)\n",
    "        if curr_loss is not None:\n",
    "            loss.append(curr_loss)\n",
    "        states = next_states\n",
    "        episode_scores += rewards\n",
    "        episode_bar.set_description(\"Time Step T: {}, Score: {:.2f}\".format(t, np.max(episode_scores)))\n",
    "        episode_bar.update()\n",
    "        if np.any(dones):\n",
    "            break\n",
    "\n",
    "    episode_bar.reset()\n",
    "\n",
    "    if len(loss) > 0:\n",
    "        if loss[-1][0] > .2:\n",
    "            add_noise = False\n",
    "        tqdm_bar.set_description(\"Score: {:.2f} Critic Loss: {:.2f} Actor Loss: {:.2f}\".format(np.max(episode_scores), loss[-1][0], loss[-1][1]))\n",
    "    scores_deque.append(episode_scores)\n",
    "    scores.append(np.max(episode_scores))\n",
    "    if i % 100 == 0:\n",
    "\n",
    "        if np.mean(scores_deque) > termination_threshold:\n",
    "            agent.save()\n",
    "            print('\\nEnvironment solved in {:d} episodes!\\tAverage Score: {:.2f}'.format(i - 100,\n",
    "                                                                                         np.mean(scores_deque)))\n",
    "            break\n",
    "\n",
    "env.close()"
   ]
  },
  {
   "cell_type": "code",
   "execution_count": 10,
   "metadata": {},
   "outputs": [
    {
     "data": {
      "image/png": "[encoded data removed]",
      "text/plain": [
       "<Figure size 432x288 with 1 Axes>"
      ]
     },
     "metadata": {
      "needs_background": "light"
     },
     "output_type": "display_data"
    }
   ],
   "source": [
    "import matplotlib.pyplot as plt\n",
    "plt.plot(scores)\n",
    "plt.show()"
   ]
  },
  {
   "cell_type": "markdown",
   "source": [
    "As it can be seen from the figure above, agents manage to solve the environment and get the top score at 2.6 - 2.7 level. "
   ],
   "metadata": {
    "collapsed": false
   }
  },
  {
   "cell_type": "markdown",
   "source": [
    "## Future Works:\n",
    "- Employing different models for each agent seems like a waste of resource as they are trying to solve same problems with different aspects. Merging models may be tried.\n",
    "- Online methods can be employed and see how they work.\n",
    "- Replay buffer samples uniformly currently. This is sub-optimal as not all experiences are worth equally. Prioritized experience replay can be adopted."
   ],
   "metadata": {
    "collapsed": false
   }
  },
  {
   "cell_type": "markdown",
   "metadata": {},
   "source": [
    "## Future Works:\n",
    "- Employing different models for each agent seems like a waste of resource as they are trying to solve same problems with different aspects. Merging models may be tried.\n",
    "- Online methods can be employed and see how they work.\n",
    "- Replay buffer samples uniformly currently. This is sub-optimal as not all experiences are worth equally. Prioritized experience replay can be adopted."
   ]
  },
  {
   "cell_type": "markdown",
   "metadata": {},
   "source": [
    "## Future Works:\n",
    "- Employing different models for each agent seems like a waste of resource as they are trying to solve same problems with different aspects. Merging models may be tried.\n",
    "- Online methods can be employed and see how they work.\n",
    "- Replay buffer samples uniformly currently. This is sub-optimal as not all experiences are worth equally. Prioritized experience replay can be adopted."
   ]
  }
 ],
 "metadata": {
  "kernelspec": {
   "display_name": "Python 3",
   "language": "python",
   "name": "python3"
  },
  "language_info": {
   "codemirror_mode": {
    "name": "ipython",
    "version": 3
   },
   "file_extension": ".py",
   "mimetype": "text/x-python",
   "name": "python",
   "nbconvert_exporter": "python",
   "pygments_lexer": "ipython3",
   "version": "3.5.2"
  }
 },
 "nbformat": 4,
 "nbformat_minor": 2
}